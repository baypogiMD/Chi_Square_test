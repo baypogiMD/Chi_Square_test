{
  "nbformat": 4,
  "nbformat_minor": 0,
  "metadata": {
    "colab": {
      "name": "07 - Chi Square.ipynb",
      "provenance": [],
      "collapsed_sections": []
    },
    "kernelspec": {
      "name": "python3",
      "display_name": "Python 3"
    }
  },
  "cells": [
    {
      "cell_type": "markdown",
      "metadata": {
        "id": "B2dj1L6yQ16h"
      },
      "source": [
        "# Chi square ($\\chi^2$) test\n",
        "Use to test independence between categorical variables.\n",
        "<br>\n",
        "Named for the greek letter $\\chi$.\n",
        "<br>\n",
        "Make use of the contingency table to summarize the relationship between categorical variables. It contains the frequency of the observation to their corresponding row and column categories.\n",
        "<br><br>\n",
        "$H_0$: There is no relationship between the variables.\n",
        "<br>\n",
        "$H_A$: There is a significant relation between the variables.\n",
        "<br><br>\n",
        "Decision making:\n",
        "<br>\n",
        "If $\\chi^2$ stat $\\geq$ critical value, reject $H_0$ (the variables are dependent)\n",
        "<br>\n",
        "If $\\chi^2$ stat $<$ critical value, do not reject $H_0$ (the variables are independent)\n",
        "<br><br>\n",
        "If p-value $\\leq$ $\\alpha$, reject $H_0$ (the variables are dependent)\n",
        "<br>\n",
        "If p-value $>$ $\\alpha$, do not reject $H_0$ (the variables are independent)\n",
        "\n"
      ]
    },
    {
      "cell_type": "markdown",
      "metadata": {
        "id": "WxK_ykOAUDnX"
      },
      "source": [
        "## Import the necessary libraries"
      ]
    },
    {
      "cell_type": "code",
      "metadata": {
        "id": "2aNPmLX7Qz0C"
      },
      "source": [
        "import pandas as pd\n",
        "import numpy as np\n",
        "import matplotlib.pyplot as plt\n",
        "import seaborn as sns\n",
        "from scipy.stats import chi2_contingency\n",
        "from scipy.stats import chi2"
      ],
      "execution_count": 1,
      "outputs": []
    },
    {
      "cell_type": "markdown",
      "metadata": {
        "id": "EGNPM3bQUI4k"
      },
      "source": [
        "## Import the dataset (esophageal cancer)\n",
        "\n",
        "Source: Breslow, N. E. and Day, N. E. (1980) Statistical Methods in Cancer Research. Volume 1: The Analysis of Case-Control Studies. IARC Lyon / Oxford University Press."
      ]
    },
    {
      "cell_type": "code",
      "metadata": {
        "colab": {
          "base_uri": "https://localhost:8080/",
          "height": 419
        },
        "id": "H4lE6vjfOJ6b",
        "outputId": "5c50521c-f70f-4d41-a412-f48e64a92bc7"
      },
      "source": [
        "esop = pd.read_csv('esophageal_cancer.csv')\n",
        "esop"
      ],
      "execution_count": 2,
      "outputs": [
        {
          "output_type": "execute_result",
          "data": {
            "text/html": [
              "<div>\n",
              "<style scoped>\n",
              "    .dataframe tbody tr th:only-of-type {\n",
              "        vertical-align: middle;\n",
              "    }\n",
              "\n",
              "    .dataframe tbody tr th {\n",
              "        vertical-align: top;\n",
              "    }\n",
              "\n",
              "    .dataframe thead th {\n",
              "        text-align: right;\n",
              "    }\n",
              "</style>\n",
              "<table border=\"1\" class=\"dataframe\">\n",
              "  <thead>\n",
              "    <tr style=\"text-align: right;\">\n",
              "      <th></th>\n",
              "      <th>Age_Group</th>\n",
              "      <th>Alcohol_Grams_Per_Day</th>\n",
              "      <th>Tobacco_Grams_Per_Day</th>\n",
              "      <th>ncases</th>\n",
              "      <th>ncontrols</th>\n",
              "    </tr>\n",
              "  </thead>\n",
              "  <tbody>\n",
              "    <tr>\n",
              "      <th>0</th>\n",
              "      <td>25-34</td>\n",
              "      <td>0-39</td>\n",
              "      <td>0-9</td>\n",
              "      <td>0</td>\n",
              "      <td>40</td>\n",
              "    </tr>\n",
              "    <tr>\n",
              "      <th>1</th>\n",
              "      <td>25-34</td>\n",
              "      <td>0-39</td>\n",
              "      <td>10-19</td>\n",
              "      <td>0</td>\n",
              "      <td>10</td>\n",
              "    </tr>\n",
              "    <tr>\n",
              "      <th>2</th>\n",
              "      <td>25-34</td>\n",
              "      <td>0-39</td>\n",
              "      <td>20-29</td>\n",
              "      <td>0</td>\n",
              "      <td>6</td>\n",
              "    </tr>\n",
              "    <tr>\n",
              "      <th>3</th>\n",
              "      <td>25-34</td>\n",
              "      <td>0-39</td>\n",
              "      <td>30+</td>\n",
              "      <td>0</td>\n",
              "      <td>5</td>\n",
              "    </tr>\n",
              "    <tr>\n",
              "      <th>4</th>\n",
              "      <td>25-34</td>\n",
              "      <td>40-79</td>\n",
              "      <td>0-9</td>\n",
              "      <td>0</td>\n",
              "      <td>27</td>\n",
              "    </tr>\n",
              "    <tr>\n",
              "      <th>...</th>\n",
              "      <td>...</td>\n",
              "      <td>...</td>\n",
              "      <td>...</td>\n",
              "      <td>...</td>\n",
              "      <td>...</td>\n",
              "    </tr>\n",
              "    <tr>\n",
              "      <th>83</th>\n",
              "      <td>75+</td>\n",
              "      <td>40-79</td>\n",
              "      <td>30+</td>\n",
              "      <td>1</td>\n",
              "      <td>1</td>\n",
              "    </tr>\n",
              "    <tr>\n",
              "      <th>84</th>\n",
              "      <td>75+</td>\n",
              "      <td>80-119</td>\n",
              "      <td>0-9</td>\n",
              "      <td>1</td>\n",
              "      <td>1</td>\n",
              "    </tr>\n",
              "    <tr>\n",
              "      <th>85</th>\n",
              "      <td>75+</td>\n",
              "      <td>80-119</td>\n",
              "      <td>10-19</td>\n",
              "      <td>1</td>\n",
              "      <td>1</td>\n",
              "    </tr>\n",
              "    <tr>\n",
              "      <th>86</th>\n",
              "      <td>75+</td>\n",
              "      <td>120+</td>\n",
              "      <td>0-9</td>\n",
              "      <td>2</td>\n",
              "      <td>2</td>\n",
              "    </tr>\n",
              "    <tr>\n",
              "      <th>87</th>\n",
              "      <td>75+</td>\n",
              "      <td>120+</td>\n",
              "      <td>10-19</td>\n",
              "      <td>1</td>\n",
              "      <td>1</td>\n",
              "    </tr>\n",
              "  </tbody>\n",
              "</table>\n",
              "<p>88 rows × 5 columns</p>\n",
              "</div>"
            ],
            "text/plain": [
              "   Age_Group Alcohol_Grams_Per_Day Tobacco_Grams_Per_Day  ncases  ncontrols\n",
              "0      25-34                  0-39                   0-9       0         40\n",
              "1      25-34                  0-39                 10-19       0         10\n",
              "2      25-34                  0-39                 20-29       0          6\n",
              "3      25-34                  0-39                   30+       0          5\n",
              "4      25-34                 40-79                   0-9       0         27\n",
              "..       ...                   ...                   ...     ...        ...\n",
              "83       75+                 40-79                   30+       1          1\n",
              "84       75+                80-119                   0-9       1          1\n",
              "85       75+                80-119                 10-19       1          1\n",
              "86       75+                  120+                   0-9       2          2\n",
              "87       75+                  120+                 10-19       1          1\n",
              "\n",
              "[88 rows x 5 columns]"
            ]
          },
          "metadata": {
            "tags": []
          },
          "execution_count": 2
        }
      ]
    },
    {
      "cell_type": "markdown",
      "metadata": {
        "id": "8mNM4A6aTHO9"
      },
      "source": [
        "## Convert the columns of age, alcohol, tobacco to categories\n",
        "> Age column\n",
        "<br>\n",
        "* Millennial1: 25-34 years old\n",
        "* Millennial2: 35-44 years old\n",
        "* GenX: 45-54 years old\n",
        "* Boomer1: 55-64 years old\n",
        "* Boomer2: 65-74 years old\n",
        "* Traditionalists: 75+ years old\n",
        "\n",
        "> Alcohol column\n",
        "<br>\n",
        "* Low 0-39 grams per day\n",
        "* Moderate 40-79 grams per day\n",
        "* High 80-119 grams per day\n",
        "* Very High 120+ grams per day\n",
        "\n",
        "> Tobacco column\n",
        "<br>\n",
        "* Low 0-9 grams per day\n",
        "* Moderate 10-19 grams per day\n",
        "* High 20-29 grams per day\n",
        "* Very High 30+ grams per day\n"
      ]
    },
    {
      "cell_type": "code",
      "metadata": {
        "id": "DpldcrQ2RZkp"
      },
      "source": [
        "esop['Age_Group'] = esop['Age_Group'].apply(str)\n",
        "esop['Alcohol_Grams_Per_Day'] = esop['Alcohol_Grams_Per_Day'].apply(str)\n",
        "esop['Tobacco_Grams_Per_Day'] = esop['Tobacco_Grams_Per_Day'].apply(str)"
      ],
      "execution_count": 3,
      "outputs": []
    },
    {
      "cell_type": "markdown",
      "metadata": {
        "id": "UP39yJknalDK"
      },
      "source": [
        "## Change the names of the columns"
      ]
    },
    {
      "cell_type": "code",
      "metadata": {
        "colab": {
          "base_uri": "https://localhost:8080/",
          "height": 419
        },
        "id": "zqT1dUPVZ1RU",
        "outputId": "651baa9a-56af-4f5b-bef4-1d05eca6f259"
      },
      "source": [
        "esop = esop.rename(columns = {'Age_Group':'Age', \n",
        "                              'Alcohol_Grams_Per_Day':'Alcohol', \n",
        "                              'Tobacco_Grams_Per_Day':'Tobacco'})\n",
        "esop"
      ],
      "execution_count": 4,
      "outputs": [
        {
          "output_type": "execute_result",
          "data": {
            "text/html": [
              "<div>\n",
              "<style scoped>\n",
              "    .dataframe tbody tr th:only-of-type {\n",
              "        vertical-align: middle;\n",
              "    }\n",
              "\n",
              "    .dataframe tbody tr th {\n",
              "        vertical-align: top;\n",
              "    }\n",
              "\n",
              "    .dataframe thead th {\n",
              "        text-align: right;\n",
              "    }\n",
              "</style>\n",
              "<table border=\"1\" class=\"dataframe\">\n",
              "  <thead>\n",
              "    <tr style=\"text-align: right;\">\n",
              "      <th></th>\n",
              "      <th>Age</th>\n",
              "      <th>Alcohol</th>\n",
              "      <th>Tobacco</th>\n",
              "      <th>ncases</th>\n",
              "      <th>ncontrols</th>\n",
              "    </tr>\n",
              "  </thead>\n",
              "  <tbody>\n",
              "    <tr>\n",
              "      <th>0</th>\n",
              "      <td>25-34</td>\n",
              "      <td>0-39</td>\n",
              "      <td>0-9</td>\n",
              "      <td>0</td>\n",
              "      <td>40</td>\n",
              "    </tr>\n",
              "    <tr>\n",
              "      <th>1</th>\n",
              "      <td>25-34</td>\n",
              "      <td>0-39</td>\n",
              "      <td>10-19</td>\n",
              "      <td>0</td>\n",
              "      <td>10</td>\n",
              "    </tr>\n",
              "    <tr>\n",
              "      <th>2</th>\n",
              "      <td>25-34</td>\n",
              "      <td>0-39</td>\n",
              "      <td>20-29</td>\n",
              "      <td>0</td>\n",
              "      <td>6</td>\n",
              "    </tr>\n",
              "    <tr>\n",
              "      <th>3</th>\n",
              "      <td>25-34</td>\n",
              "      <td>0-39</td>\n",
              "      <td>30+</td>\n",
              "      <td>0</td>\n",
              "      <td>5</td>\n",
              "    </tr>\n",
              "    <tr>\n",
              "      <th>4</th>\n",
              "      <td>25-34</td>\n",
              "      <td>40-79</td>\n",
              "      <td>0-9</td>\n",
              "      <td>0</td>\n",
              "      <td>27</td>\n",
              "    </tr>\n",
              "    <tr>\n",
              "      <th>...</th>\n",
              "      <td>...</td>\n",
              "      <td>...</td>\n",
              "      <td>...</td>\n",
              "      <td>...</td>\n",
              "      <td>...</td>\n",
              "    </tr>\n",
              "    <tr>\n",
              "      <th>83</th>\n",
              "      <td>75+</td>\n",
              "      <td>40-79</td>\n",
              "      <td>30+</td>\n",
              "      <td>1</td>\n",
              "      <td>1</td>\n",
              "    </tr>\n",
              "    <tr>\n",
              "      <th>84</th>\n",
              "      <td>75+</td>\n",
              "      <td>80-119</td>\n",
              "      <td>0-9</td>\n",
              "      <td>1</td>\n",
              "      <td>1</td>\n",
              "    </tr>\n",
              "    <tr>\n",
              "      <th>85</th>\n",
              "      <td>75+</td>\n",
              "      <td>80-119</td>\n",
              "      <td>10-19</td>\n",
              "      <td>1</td>\n",
              "      <td>1</td>\n",
              "    </tr>\n",
              "    <tr>\n",
              "      <th>86</th>\n",
              "      <td>75+</td>\n",
              "      <td>120+</td>\n",
              "      <td>0-9</td>\n",
              "      <td>2</td>\n",
              "      <td>2</td>\n",
              "    </tr>\n",
              "    <tr>\n",
              "      <th>87</th>\n",
              "      <td>75+</td>\n",
              "      <td>120+</td>\n",
              "      <td>10-19</td>\n",
              "      <td>1</td>\n",
              "      <td>1</td>\n",
              "    </tr>\n",
              "  </tbody>\n",
              "</table>\n",
              "<p>88 rows × 5 columns</p>\n",
              "</div>"
            ],
            "text/plain": [
              "      Age Alcohol Tobacco  ncases  ncontrols\n",
              "0   25-34    0-39     0-9       0         40\n",
              "1   25-34    0-39   10-19       0         10\n",
              "2   25-34    0-39   20-29       0          6\n",
              "3   25-34    0-39     30+       0          5\n",
              "4   25-34   40-79     0-9       0         27\n",
              "..    ...     ...     ...     ...        ...\n",
              "83    75+   40-79     30+       1          1\n",
              "84    75+  80-119     0-9       1          1\n",
              "85    75+  80-119   10-19       1          1\n",
              "86    75+    120+     0-9       2          2\n",
              "87    75+    120+   10-19       1          1\n",
              "\n",
              "[88 rows x 5 columns]"
            ]
          },
          "metadata": {
            "tags": []
          },
          "execution_count": 4
        }
      ]
    },
    {
      "cell_type": "markdown",
      "metadata": {
        "id": "UxVwYVvMg4_e"
      },
      "source": [
        "## Convert the values in age column to names"
      ]
    },
    {
      "cell_type": "code",
      "metadata": {
        "colab": {
          "base_uri": "https://localhost:8080/",
          "height": 419
        },
        "id": "ZEyigAtDajuz",
        "outputId": "0eedcfa1-6e7c-4dff-f3e6-8149be49bb48"
      },
      "source": [
        "esop.replace('25-34', 'Millennial1', inplace=True)\n",
        "esop.replace('35-44', 'Millennial2', inplace=True)\n",
        "esop.replace('45-54', 'GenX', inplace=True)\n",
        "esop.replace('55-64', 'Boomer1', inplace=True)\n",
        "esop.replace('65-74', 'Boomer2', inplace=True)\n",
        "esop.replace('75+', 'Traditionalists', inplace=True)\n",
        "esop"
      ],
      "execution_count": 5,
      "outputs": [
        {
          "output_type": "execute_result",
          "data": {
            "text/html": [
              "<div>\n",
              "<style scoped>\n",
              "    .dataframe tbody tr th:only-of-type {\n",
              "        vertical-align: middle;\n",
              "    }\n",
              "\n",
              "    .dataframe tbody tr th {\n",
              "        vertical-align: top;\n",
              "    }\n",
              "\n",
              "    .dataframe thead th {\n",
              "        text-align: right;\n",
              "    }\n",
              "</style>\n",
              "<table border=\"1\" class=\"dataframe\">\n",
              "  <thead>\n",
              "    <tr style=\"text-align: right;\">\n",
              "      <th></th>\n",
              "      <th>Age</th>\n",
              "      <th>Alcohol</th>\n",
              "      <th>Tobacco</th>\n",
              "      <th>ncases</th>\n",
              "      <th>ncontrols</th>\n",
              "    </tr>\n",
              "  </thead>\n",
              "  <tbody>\n",
              "    <tr>\n",
              "      <th>0</th>\n",
              "      <td>Millennial1</td>\n",
              "      <td>0-39</td>\n",
              "      <td>0-9</td>\n",
              "      <td>0</td>\n",
              "      <td>40</td>\n",
              "    </tr>\n",
              "    <tr>\n",
              "      <th>1</th>\n",
              "      <td>Millennial1</td>\n",
              "      <td>0-39</td>\n",
              "      <td>10-19</td>\n",
              "      <td>0</td>\n",
              "      <td>10</td>\n",
              "    </tr>\n",
              "    <tr>\n",
              "      <th>2</th>\n",
              "      <td>Millennial1</td>\n",
              "      <td>0-39</td>\n",
              "      <td>20-29</td>\n",
              "      <td>0</td>\n",
              "      <td>6</td>\n",
              "    </tr>\n",
              "    <tr>\n",
              "      <th>3</th>\n",
              "      <td>Millennial1</td>\n",
              "      <td>0-39</td>\n",
              "      <td>30+</td>\n",
              "      <td>0</td>\n",
              "      <td>5</td>\n",
              "    </tr>\n",
              "    <tr>\n",
              "      <th>4</th>\n",
              "      <td>Millennial1</td>\n",
              "      <td>40-79</td>\n",
              "      <td>0-9</td>\n",
              "      <td>0</td>\n",
              "      <td>27</td>\n",
              "    </tr>\n",
              "    <tr>\n",
              "      <th>...</th>\n",
              "      <td>...</td>\n",
              "      <td>...</td>\n",
              "      <td>...</td>\n",
              "      <td>...</td>\n",
              "      <td>...</td>\n",
              "    </tr>\n",
              "    <tr>\n",
              "      <th>83</th>\n",
              "      <td>Traditionalists</td>\n",
              "      <td>40-79</td>\n",
              "      <td>30+</td>\n",
              "      <td>1</td>\n",
              "      <td>1</td>\n",
              "    </tr>\n",
              "    <tr>\n",
              "      <th>84</th>\n",
              "      <td>Traditionalists</td>\n",
              "      <td>80-119</td>\n",
              "      <td>0-9</td>\n",
              "      <td>1</td>\n",
              "      <td>1</td>\n",
              "    </tr>\n",
              "    <tr>\n",
              "      <th>85</th>\n",
              "      <td>Traditionalists</td>\n",
              "      <td>80-119</td>\n",
              "      <td>10-19</td>\n",
              "      <td>1</td>\n",
              "      <td>1</td>\n",
              "    </tr>\n",
              "    <tr>\n",
              "      <th>86</th>\n",
              "      <td>Traditionalists</td>\n",
              "      <td>120+</td>\n",
              "      <td>0-9</td>\n",
              "      <td>2</td>\n",
              "      <td>2</td>\n",
              "    </tr>\n",
              "    <tr>\n",
              "      <th>87</th>\n",
              "      <td>Traditionalists</td>\n",
              "      <td>120+</td>\n",
              "      <td>10-19</td>\n",
              "      <td>1</td>\n",
              "      <td>1</td>\n",
              "    </tr>\n",
              "  </tbody>\n",
              "</table>\n",
              "<p>88 rows × 5 columns</p>\n",
              "</div>"
            ],
            "text/plain": [
              "                Age Alcohol Tobacco  ncases  ncontrols\n",
              "0       Millennial1    0-39     0-9       0         40\n",
              "1       Millennial1    0-39   10-19       0         10\n",
              "2       Millennial1    0-39   20-29       0          6\n",
              "3       Millennial1    0-39     30+       0          5\n",
              "4       Millennial1   40-79     0-9       0         27\n",
              "..              ...     ...     ...     ...        ...\n",
              "83  Traditionalists   40-79     30+       1          1\n",
              "84  Traditionalists  80-119     0-9       1          1\n",
              "85  Traditionalists  80-119   10-19       1          1\n",
              "86  Traditionalists    120+     0-9       2          2\n",
              "87  Traditionalists    120+   10-19       1          1\n",
              "\n",
              "[88 rows x 5 columns]"
            ]
          },
          "metadata": {
            "tags": []
          },
          "execution_count": 5
        }
      ]
    },
    {
      "cell_type": "markdown",
      "metadata": {
        "id": "cGuWkXimg_na"
      },
      "source": [
        "## Convert the values in alcohol column to categories"
      ]
    },
    {
      "cell_type": "code",
      "metadata": {
        "colab": {
          "base_uri": "https://localhost:8080/",
          "height": 419
        },
        "id": "8sfEJUxQcy1G",
        "outputId": "5d3cb254-239b-4dfc-8d62-6f5e880d8660"
      },
      "source": [
        "esop.replace('0-39', 'LowAlc', inplace=True)\n",
        "esop.replace('40-79', 'ModAlc', inplace=True)\n",
        "esop.replace('80-119', 'HighAlc', inplace=True)\n",
        "esop.replace('120+', 'VeryHighAlc', inplace=True)\n",
        "esop"
      ],
      "execution_count": 6,
      "outputs": [
        {
          "output_type": "execute_result",
          "data": {
            "text/html": [
              "<div>\n",
              "<style scoped>\n",
              "    .dataframe tbody tr th:only-of-type {\n",
              "        vertical-align: middle;\n",
              "    }\n",
              "\n",
              "    .dataframe tbody tr th {\n",
              "        vertical-align: top;\n",
              "    }\n",
              "\n",
              "    .dataframe thead th {\n",
              "        text-align: right;\n",
              "    }\n",
              "</style>\n",
              "<table border=\"1\" class=\"dataframe\">\n",
              "  <thead>\n",
              "    <tr style=\"text-align: right;\">\n",
              "      <th></th>\n",
              "      <th>Age</th>\n",
              "      <th>Alcohol</th>\n",
              "      <th>Tobacco</th>\n",
              "      <th>ncases</th>\n",
              "      <th>ncontrols</th>\n",
              "    </tr>\n",
              "  </thead>\n",
              "  <tbody>\n",
              "    <tr>\n",
              "      <th>0</th>\n",
              "      <td>Millennial1</td>\n",
              "      <td>LowAlc</td>\n",
              "      <td>0-9</td>\n",
              "      <td>0</td>\n",
              "      <td>40</td>\n",
              "    </tr>\n",
              "    <tr>\n",
              "      <th>1</th>\n",
              "      <td>Millennial1</td>\n",
              "      <td>LowAlc</td>\n",
              "      <td>10-19</td>\n",
              "      <td>0</td>\n",
              "      <td>10</td>\n",
              "    </tr>\n",
              "    <tr>\n",
              "      <th>2</th>\n",
              "      <td>Millennial1</td>\n",
              "      <td>LowAlc</td>\n",
              "      <td>20-29</td>\n",
              "      <td>0</td>\n",
              "      <td>6</td>\n",
              "    </tr>\n",
              "    <tr>\n",
              "      <th>3</th>\n",
              "      <td>Millennial1</td>\n",
              "      <td>LowAlc</td>\n",
              "      <td>30+</td>\n",
              "      <td>0</td>\n",
              "      <td>5</td>\n",
              "    </tr>\n",
              "    <tr>\n",
              "      <th>4</th>\n",
              "      <td>Millennial1</td>\n",
              "      <td>ModAlc</td>\n",
              "      <td>0-9</td>\n",
              "      <td>0</td>\n",
              "      <td>27</td>\n",
              "    </tr>\n",
              "    <tr>\n",
              "      <th>...</th>\n",
              "      <td>...</td>\n",
              "      <td>...</td>\n",
              "      <td>...</td>\n",
              "      <td>...</td>\n",
              "      <td>...</td>\n",
              "    </tr>\n",
              "    <tr>\n",
              "      <th>83</th>\n",
              "      <td>Traditionalists</td>\n",
              "      <td>ModAlc</td>\n",
              "      <td>30+</td>\n",
              "      <td>1</td>\n",
              "      <td>1</td>\n",
              "    </tr>\n",
              "    <tr>\n",
              "      <th>84</th>\n",
              "      <td>Traditionalists</td>\n",
              "      <td>HighAlc</td>\n",
              "      <td>0-9</td>\n",
              "      <td>1</td>\n",
              "      <td>1</td>\n",
              "    </tr>\n",
              "    <tr>\n",
              "      <th>85</th>\n",
              "      <td>Traditionalists</td>\n",
              "      <td>HighAlc</td>\n",
              "      <td>10-19</td>\n",
              "      <td>1</td>\n",
              "      <td>1</td>\n",
              "    </tr>\n",
              "    <tr>\n",
              "      <th>86</th>\n",
              "      <td>Traditionalists</td>\n",
              "      <td>VeryHighAlc</td>\n",
              "      <td>0-9</td>\n",
              "      <td>2</td>\n",
              "      <td>2</td>\n",
              "    </tr>\n",
              "    <tr>\n",
              "      <th>87</th>\n",
              "      <td>Traditionalists</td>\n",
              "      <td>VeryHighAlc</td>\n",
              "      <td>10-19</td>\n",
              "      <td>1</td>\n",
              "      <td>1</td>\n",
              "    </tr>\n",
              "  </tbody>\n",
              "</table>\n",
              "<p>88 rows × 5 columns</p>\n",
              "</div>"
            ],
            "text/plain": [
              "                Age      Alcohol Tobacco  ncases  ncontrols\n",
              "0       Millennial1       LowAlc     0-9       0         40\n",
              "1       Millennial1       LowAlc   10-19       0         10\n",
              "2       Millennial1       LowAlc   20-29       0          6\n",
              "3       Millennial1       LowAlc     30+       0          5\n",
              "4       Millennial1       ModAlc     0-9       0         27\n",
              "..              ...          ...     ...     ...        ...\n",
              "83  Traditionalists       ModAlc     30+       1          1\n",
              "84  Traditionalists      HighAlc     0-9       1          1\n",
              "85  Traditionalists      HighAlc   10-19       1          1\n",
              "86  Traditionalists  VeryHighAlc     0-9       2          2\n",
              "87  Traditionalists  VeryHighAlc   10-19       1          1\n",
              "\n",
              "[88 rows x 5 columns]"
            ]
          },
          "metadata": {
            "tags": []
          },
          "execution_count": 6
        }
      ]
    },
    {
      "cell_type": "markdown",
      "metadata": {
        "id": "Jfx0j3Y6hQdb"
      },
      "source": [
        "## Convert the values in tobacco column to categories"
      ]
    },
    {
      "cell_type": "code",
      "metadata": {
        "colab": {
          "base_uri": "https://localhost:8080/",
          "height": 419
        },
        "id": "2uiz835VdWwk",
        "outputId": "90fca7b8-7ab5-4a8e-9ce9-bede709ebcf6"
      },
      "source": [
        "esop.replace('0-9', 'LowTbco', inplace=True)\n",
        "esop.replace('10-19', 'ModTbco', inplace=True)\n",
        "esop.replace('20-29', 'HighTbco', inplace=True)\n",
        "esop.replace('30+', 'VeryHighTbco', inplace=True)\n",
        "esop"
      ],
      "execution_count": 7,
      "outputs": [
        {
          "output_type": "execute_result",
          "data": {
            "text/html": [
              "<div>\n",
              "<style scoped>\n",
              "    .dataframe tbody tr th:only-of-type {\n",
              "        vertical-align: middle;\n",
              "    }\n",
              "\n",
              "    .dataframe tbody tr th {\n",
              "        vertical-align: top;\n",
              "    }\n",
              "\n",
              "    .dataframe thead th {\n",
              "        text-align: right;\n",
              "    }\n",
              "</style>\n",
              "<table border=\"1\" class=\"dataframe\">\n",
              "  <thead>\n",
              "    <tr style=\"text-align: right;\">\n",
              "      <th></th>\n",
              "      <th>Age</th>\n",
              "      <th>Alcohol</th>\n",
              "      <th>Tobacco</th>\n",
              "      <th>ncases</th>\n",
              "      <th>ncontrols</th>\n",
              "    </tr>\n",
              "  </thead>\n",
              "  <tbody>\n",
              "    <tr>\n",
              "      <th>0</th>\n",
              "      <td>Millennial1</td>\n",
              "      <td>LowAlc</td>\n",
              "      <td>LowTbco</td>\n",
              "      <td>0</td>\n",
              "      <td>40</td>\n",
              "    </tr>\n",
              "    <tr>\n",
              "      <th>1</th>\n",
              "      <td>Millennial1</td>\n",
              "      <td>LowAlc</td>\n",
              "      <td>ModTbco</td>\n",
              "      <td>0</td>\n",
              "      <td>10</td>\n",
              "    </tr>\n",
              "    <tr>\n",
              "      <th>2</th>\n",
              "      <td>Millennial1</td>\n",
              "      <td>LowAlc</td>\n",
              "      <td>HighTbco</td>\n",
              "      <td>0</td>\n",
              "      <td>6</td>\n",
              "    </tr>\n",
              "    <tr>\n",
              "      <th>3</th>\n",
              "      <td>Millennial1</td>\n",
              "      <td>LowAlc</td>\n",
              "      <td>VeryHighTbco</td>\n",
              "      <td>0</td>\n",
              "      <td>5</td>\n",
              "    </tr>\n",
              "    <tr>\n",
              "      <th>4</th>\n",
              "      <td>Millennial1</td>\n",
              "      <td>ModAlc</td>\n",
              "      <td>LowTbco</td>\n",
              "      <td>0</td>\n",
              "      <td>27</td>\n",
              "    </tr>\n",
              "    <tr>\n",
              "      <th>...</th>\n",
              "      <td>...</td>\n",
              "      <td>...</td>\n",
              "      <td>...</td>\n",
              "      <td>...</td>\n",
              "      <td>...</td>\n",
              "    </tr>\n",
              "    <tr>\n",
              "      <th>83</th>\n",
              "      <td>Traditionalists</td>\n",
              "      <td>ModAlc</td>\n",
              "      <td>VeryHighTbco</td>\n",
              "      <td>1</td>\n",
              "      <td>1</td>\n",
              "    </tr>\n",
              "    <tr>\n",
              "      <th>84</th>\n",
              "      <td>Traditionalists</td>\n",
              "      <td>HighAlc</td>\n",
              "      <td>LowTbco</td>\n",
              "      <td>1</td>\n",
              "      <td>1</td>\n",
              "    </tr>\n",
              "    <tr>\n",
              "      <th>85</th>\n",
              "      <td>Traditionalists</td>\n",
              "      <td>HighAlc</td>\n",
              "      <td>ModTbco</td>\n",
              "      <td>1</td>\n",
              "      <td>1</td>\n",
              "    </tr>\n",
              "    <tr>\n",
              "      <th>86</th>\n",
              "      <td>Traditionalists</td>\n",
              "      <td>VeryHighAlc</td>\n",
              "      <td>LowTbco</td>\n",
              "      <td>2</td>\n",
              "      <td>2</td>\n",
              "    </tr>\n",
              "    <tr>\n",
              "      <th>87</th>\n",
              "      <td>Traditionalists</td>\n",
              "      <td>VeryHighAlc</td>\n",
              "      <td>ModTbco</td>\n",
              "      <td>1</td>\n",
              "      <td>1</td>\n",
              "    </tr>\n",
              "  </tbody>\n",
              "</table>\n",
              "<p>88 rows × 5 columns</p>\n",
              "</div>"
            ],
            "text/plain": [
              "                Age      Alcohol       Tobacco  ncases  ncontrols\n",
              "0       Millennial1       LowAlc       LowTbco       0         40\n",
              "1       Millennial1       LowAlc       ModTbco       0         10\n",
              "2       Millennial1       LowAlc      HighTbco       0          6\n",
              "3       Millennial1       LowAlc  VeryHighTbco       0          5\n",
              "4       Millennial1       ModAlc       LowTbco       0         27\n",
              "..              ...          ...           ...     ...        ...\n",
              "83  Traditionalists       ModAlc  VeryHighTbco       1          1\n",
              "84  Traditionalists      HighAlc       LowTbco       1          1\n",
              "85  Traditionalists      HighAlc       ModTbco       1          1\n",
              "86  Traditionalists  VeryHighAlc       LowTbco       2          2\n",
              "87  Traditionalists  VeryHighAlc       ModTbco       1          1\n",
              "\n",
              "[88 rows x 5 columns]"
            ]
          },
          "metadata": {
            "tags": []
          },
          "execution_count": 7
        }
      ]
    },
    {
      "cell_type": "markdown",
      "metadata": {
        "id": "rVFjpfp-hWf7"
      },
      "source": [
        "## How many people developed esophageal cancer from each age group?"
      ]
    },
    {
      "cell_type": "code",
      "metadata": {
        "colab": {
          "base_uri": "https://localhost:8080/",
          "height": 235
        },
        "id": "VqvsOkfidzFy",
        "outputId": "ce94d3a6-4e0a-4bfb-bc0a-e87a94869ac2"
      },
      "source": [
        "Mil01 = esop[esop['Age'] == 'Millennial1']\n",
        "Mil01 = Mil01['ncases'].sum()\n",
        "\n",
        "Mil02 = esop[esop['Age'] == 'Millennial2']\n",
        "Mil02 = Mil02['ncases'].sum()\n",
        "\n",
        "GenX = esop[esop['Age'] == 'GenX']\n",
        "GenX = GenX['ncases'].sum()\n",
        "\n",
        "Bmr01 = esop[esop['Age'] == 'Boomer1']\n",
        "Bmr01 = Bmr01['ncases'].sum()\n",
        "\n",
        "Bmr02 = esop[esop['Age'] == 'Boomer2']\n",
        "Bmr02 = Bmr02['ncases'].sum()\n",
        "\n",
        "Trad = esop[esop['Age'] == 'Traditionalists']\n",
        "Trad = Trad['ncases'].sum()\n",
        "\n",
        "Agegrp = {'Age Group': ['Millennial1', 'Millennial2', 'GenX', 'Boomer1', 'Boomer2', 'Traditionalists'], \n",
        "          'Frequency': [Mil01, Mil02, GenX, Bmr01, Bmr02, Trad]}\n",
        "Agegrp = pd.DataFrame(data=Agegrp)\n",
        "Agegrp"
      ],
      "execution_count": 8,
      "outputs": [
        {
          "output_type": "execute_result",
          "data": {
            "text/html": [
              "<div>\n",
              "<style scoped>\n",
              "    .dataframe tbody tr th:only-of-type {\n",
              "        vertical-align: middle;\n",
              "    }\n",
              "\n",
              "    .dataframe tbody tr th {\n",
              "        vertical-align: top;\n",
              "    }\n",
              "\n",
              "    .dataframe thead th {\n",
              "        text-align: right;\n",
              "    }\n",
              "</style>\n",
              "<table border=\"1\" class=\"dataframe\">\n",
              "  <thead>\n",
              "    <tr style=\"text-align: right;\">\n",
              "      <th></th>\n",
              "      <th>Age Group</th>\n",
              "      <th>Frequency</th>\n",
              "    </tr>\n",
              "  </thead>\n",
              "  <tbody>\n",
              "    <tr>\n",
              "      <th>0</th>\n",
              "      <td>Millennial1</td>\n",
              "      <td>1</td>\n",
              "    </tr>\n",
              "    <tr>\n",
              "      <th>1</th>\n",
              "      <td>Millennial2</td>\n",
              "      <td>9</td>\n",
              "    </tr>\n",
              "    <tr>\n",
              "      <th>2</th>\n",
              "      <td>GenX</td>\n",
              "      <td>46</td>\n",
              "    </tr>\n",
              "    <tr>\n",
              "      <th>3</th>\n",
              "      <td>Boomer1</td>\n",
              "      <td>76</td>\n",
              "    </tr>\n",
              "    <tr>\n",
              "      <th>4</th>\n",
              "      <td>Boomer2</td>\n",
              "      <td>55</td>\n",
              "    </tr>\n",
              "    <tr>\n",
              "      <th>5</th>\n",
              "      <td>Traditionalists</td>\n",
              "      <td>13</td>\n",
              "    </tr>\n",
              "  </tbody>\n",
              "</table>\n",
              "</div>"
            ],
            "text/plain": [
              "         Age Group  Frequency\n",
              "0      Millennial1          1\n",
              "1      Millennial2          9\n",
              "2             GenX         46\n",
              "3          Boomer1         76\n",
              "4          Boomer2         55\n",
              "5  Traditionalists         13"
            ]
          },
          "metadata": {
            "tags": []
          },
          "execution_count": 8
        }
      ]
    },
    {
      "cell_type": "code",
      "metadata": {
        "colab": {
          "base_uri": "https://localhost:8080/",
          "height": 295
        },
        "id": "WmPHpyGhgJ3c",
        "outputId": "0c05a5b7-3c3f-4eb3-fcb9-d8deab7685d8"
      },
      "source": [
        "sns.barplot(x='Age Group', y='Frequency', \n",
        "            data=Agegrp).set_title('People who developed esophageal cancer according to age group')\n",
        "\n",
        "plt.show()"
      ],
      "execution_count": 9,
      "outputs": [
        {
          "output_type": "display_data",
          "data": {
            "image/png": "[encoded data removed]",
            "text/plain": [
              "<Figure size 432x288 with 1 Axes>"
            ]
          },
          "metadata": {
            "tags": [],
            "needs_background": "light"
          }
        }
      ]
    },
    {
      "cell_type": "markdown",
      "metadata": {
        "id": "lCWq69_C0L3T"
      },
      "source": [
        "## How many people did not developed esophageal cancer from each age group?"
      ]
    },
    {
      "cell_type": "code",
      "metadata": {
        "colab": {
          "base_uri": "https://localhost:8080/",
          "height": 235
        },
        "id": "8KHuTYw-0cCw",
        "outputId": "cf3aa3ad-221e-405d-c194-957c3e9a8698"
      },
      "source": [
        "Mil01con = esop[esop['Age'] == 'Millennial1']\n",
        "Mil01con = Mil01con['ncontrols'].sum()\n",
        "\n",
        "Mil02con = esop[esop['Age'] == 'Millennial2']\n",
        "Mil02con = Mil02con['ncontrols'].sum()\n",
        "\n",
        "GenXcon = esop[esop['Age'] == 'GenX']\n",
        "GenXcon = GenXcon['ncontrols'].sum()\n",
        "\n",
        "Bmr01con = esop[esop['Age'] == 'Boomer1']\n",
        "Bmr01con = Bmr01con['ncontrols'].sum()\n",
        "\n",
        "Bmr02con = esop[esop['Age'] == 'Boomer2']\n",
        "Bmr02con = Bmr02con['ncontrols'].sum()\n",
        "\n",
        "Tradcon = esop[esop['Age'] == 'Traditionalists']\n",
        "Tradcon = Tradcon['ncontrols'].sum()\n",
        "\n",
        "Agegrpcon = {'Age Group': ['Millennial1', 'Millennial2', 'GenX', 'Boomer1', 'Boomer2', 'Traditionalists'], \n",
        "          'Frequency': [Mil01con, Mil02con, GenXcon, Bmr01con, Bmr02con, Tradcon]}\n",
        "Agegrpcon = pd.DataFrame(data=Agegrpcon)\n",
        "Agegrpcon"
      ],
      "execution_count": 10,
      "outputs": [
        {
          "output_type": "execute_result",
          "data": {
            "text/html": [
              "<div>\n",
              "<style scoped>\n",
              "    .dataframe tbody tr th:only-of-type {\n",
              "        vertical-align: middle;\n",
              "    }\n",
              "\n",
              "    .dataframe tbody tr th {\n",
              "        vertical-align: top;\n",
              "    }\n",
              "\n",
              "    .dataframe thead th {\n",
              "        text-align: right;\n",
              "    }\n",
              "</style>\n",
              "<table border=\"1\" class=\"dataframe\">\n",
              "  <thead>\n",
              "    <tr style=\"text-align: right;\">\n",
              "      <th></th>\n",
              "      <th>Age Group</th>\n",
              "      <th>Frequency</th>\n",
              "    </tr>\n",
              "  </thead>\n",
              "  <tbody>\n",
              "    <tr>\n",
              "      <th>0</th>\n",
              "      <td>Millennial1</td>\n",
              "      <td>116</td>\n",
              "    </tr>\n",
              "    <tr>\n",
              "      <th>1</th>\n",
              "      <td>Millennial2</td>\n",
              "      <td>199</td>\n",
              "    </tr>\n",
              "    <tr>\n",
              "      <th>2</th>\n",
              "      <td>GenX</td>\n",
              "      <td>213</td>\n",
              "    </tr>\n",
              "    <tr>\n",
              "      <th>3</th>\n",
              "      <td>Boomer1</td>\n",
              "      <td>242</td>\n",
              "    </tr>\n",
              "    <tr>\n",
              "      <th>4</th>\n",
              "      <td>Boomer2</td>\n",
              "      <td>161</td>\n",
              "    </tr>\n",
              "    <tr>\n",
              "      <th>5</th>\n",
              "      <td>Traditionalists</td>\n",
              "      <td>44</td>\n",
              "    </tr>\n",
              "  </tbody>\n",
              "</table>\n",
              "</div>"
            ],
            "text/plain": [
              "         Age Group  Frequency\n",
              "0      Millennial1        116\n",
              "1      Millennial2        199\n",
              "2             GenX        213\n",
              "3          Boomer1        242\n",
              "4          Boomer2        161\n",
              "5  Traditionalists         44"
            ]
          },
          "metadata": {
            "tags": []
          },
          "execution_count": 10
        }
      ]
    },
    {
      "cell_type": "code",
      "metadata": {
        "colab": {
          "base_uri": "https://localhost:8080/",
          "height": 295
        },
        "id": "qBKclRwC1ARW",
        "outputId": "7882cab3-90ed-4237-ad09-ca924559034d"
      },
      "source": [
        "sns.barplot(x='Age Group', y='Frequency', \n",
        "            data=Agegrpcon).set_title('People who did not developed esophageal cancer according to age group')\n",
        "\n",
        "plt.show()"
      ],
      "execution_count": 11,
      "outputs": [
        {
          "output_type": "display_data",
          "data": {
            "image/png": "[encoded data removed]",
            "text/plain": [
              "<Figure size 432x288 with 1 Axes>"
            ]
          },
          "metadata": {
            "tags": [],
            "needs_background": "light"
          }
        }
      ]
    },
    {
      "cell_type": "markdown",
      "metadata": {
        "id": "q1DOQUueqxnw"
      },
      "source": [
        "## How many people developed esophageal cancer based on the amount of the alcohol they consumed?"
      ]
    },
    {
      "cell_type": "code",
      "metadata": {
        "id": "C2fDOEr7lsxL",
        "colab": {
          "base_uri": "https://localhost:8080/",
          "height": 173
        },
        "outputId": "bb8db78f-04b8-409b-e85a-650159f5eee9"
      },
      "source": [
        "LowAlc = esop[esop['Alcohol'] == 'LowAlc']\n",
        "LowAlc = LowAlc['ncases'].sum()\n",
        "\n",
        "ModAlc = esop[esop['Alcohol'] == 'ModAlc']\n",
        "ModAlc = ModAlc['ncases'].sum()\n",
        "\n",
        "HighAlc = esop[esop['Alcohol'] == 'HighAlc']\n",
        "HighAlc = HighAlc['ncases'].sum()\n",
        "\n",
        "VeryHighAlc = esop[esop['Alcohol'] == 'VeryHighAlc']\n",
        "VeryHighAlc = VeryHighAlc['ncases'].sum()\n",
        "\n",
        "AlcLvl = {'Grams per day': ['0-39', '40-79', '80-119', '120+'], \n",
        "          'Frequency': [LowAlc, ModAlc, HighAlc, VeryHighAlc]}\n",
        "AlcLvl = pd.DataFrame(data=AlcLvl)\n",
        "AlcLvl"
      ],
      "execution_count": 12,
      "outputs": [
        {
          "output_type": "execute_result",
          "data": {
            "text/html": [
              "<div>\n",
              "<style scoped>\n",
              "    .dataframe tbody tr th:only-of-type {\n",
              "        vertical-align: middle;\n",
              "    }\n",
              "\n",
              "    .dataframe tbody tr th {\n",
              "        vertical-align: top;\n",
              "    }\n",
              "\n",
              "    .dataframe thead th {\n",
              "        text-align: right;\n",
              "    }\n",
              "</style>\n",
              "<table border=\"1\" class=\"dataframe\">\n",
              "  <thead>\n",
              "    <tr style=\"text-align: right;\">\n",
              "      <th></th>\n",
              "      <th>Grams per day</th>\n",
              "      <th>Frequency</th>\n",
              "    </tr>\n",
              "  </thead>\n",
              "  <tbody>\n",
              "    <tr>\n",
              "      <th>0</th>\n",
              "      <td>0-39</td>\n",
              "      <td>29</td>\n",
              "    </tr>\n",
              "    <tr>\n",
              "      <th>1</th>\n",
              "      <td>40-79</td>\n",
              "      <td>75</td>\n",
              "    </tr>\n",
              "    <tr>\n",
              "      <th>2</th>\n",
              "      <td>80-119</td>\n",
              "      <td>51</td>\n",
              "    </tr>\n",
              "    <tr>\n",
              "      <th>3</th>\n",
              "      <td>120+</td>\n",
              "      <td>45</td>\n",
              "    </tr>\n",
              "  </tbody>\n",
              "</table>\n",
              "</div>"
            ],
            "text/plain": [
              "  Grams per day  Frequency\n",
              "0          0-39         29\n",
              "1         40-79         75\n",
              "2        80-119         51\n",
              "3          120+         45"
            ]
          },
          "metadata": {
            "tags": []
          },
          "execution_count": 12
        }
      ]
    },
    {
      "cell_type": "code",
      "metadata": {
        "colab": {
          "base_uri": "https://localhost:8080/",
          "height": 295
        },
        "id": "a5cqXfcUrbGr",
        "outputId": "f4f7e991-d591-482a-aead-9201e542af1f"
      },
      "source": [
        "sns.barplot(x='Grams per day', y='Frequency', \n",
        "            data=AlcLvl).set_title('Frequency of esophageal cancer according to alcohol consumption')\n",
        "\n",
        "plt.show()"
      ],
      "execution_count": 13,
      "outputs": [
        {
          "output_type": "display_data",
          "data": {
            "image/png": "[encoded data removed]",
            "text/plain": [
              "<Figure size 432x288 with 1 Axes>"
            ]
          },
          "metadata": {
            "tags": [],
            "needs_background": "light"
          }
        }
      ]
    },
    {
      "cell_type": "markdown",
      "metadata": {
        "id": "iaKMV3yLR5LM"
      },
      "source": [
        "## How many people did not developed esophageal cancer based on the amount of the alcohol they consumed?"
      ]
    },
    {
      "cell_type": "code",
      "metadata": {
        "colab": {
          "base_uri": "https://localhost:8080/",
          "height": 173
        },
        "id": "fSbjoe4lSBB1",
        "outputId": "4feb432c-8a0b-4992-b12e-ef671a121dcb"
      },
      "source": [
        "LowAlcCon = esop[esop['Alcohol'] == 'LowAlc']\n",
        "LowAlcCon = LowAlcCon['ncontrols'].sum()\n",
        "\n",
        "ModAlcCon = esop[esop['Alcohol'] == 'ModAlc']\n",
        "ModAlcCon = ModAlcCon['ncontrols'].sum()\n",
        "\n",
        "HighAlcCon = esop[esop['Alcohol'] == 'HighAlc']\n",
        "HighAlcCon = HighAlcCon['ncontrols'].sum()\n",
        "\n",
        "VeryHighAlcCon = esop[esop['Alcohol'] == 'VeryHighAlc']\n",
        "VeryHighAlcCon = VeryHighAlcCon['ncontrols'].sum()\n",
        "\n",
        "AlcLvlCon = {'Grams per day': ['0-39', '40-79', '80-119', '120+'], \n",
        "          'Frequency': [LowAlcCon, ModAlcCon, HighAlcCon, VeryHighAlcCon]}\n",
        "AlcLvlCon = pd.DataFrame(data=AlcLvlCon)\n",
        "AlcLvlCon"
      ],
      "execution_count": 14,
      "outputs": [
        {
          "output_type": "execute_result",
          "data": {
            "text/html": [
              "<div>\n",
              "<style scoped>\n",
              "    .dataframe tbody tr th:only-of-type {\n",
              "        vertical-align: middle;\n",
              "    }\n",
              "\n",
              "    .dataframe tbody tr th {\n",
              "        vertical-align: top;\n",
              "    }\n",
              "\n",
              "    .dataframe thead th {\n",
              "        text-align: right;\n",
              "    }\n",
              "</style>\n",
              "<table border=\"1\" class=\"dataframe\">\n",
              "  <thead>\n",
              "    <tr style=\"text-align: right;\">\n",
              "      <th></th>\n",
              "      <th>Grams per day</th>\n",
              "      <th>Frequency</th>\n",
              "    </tr>\n",
              "  </thead>\n",
              "  <tbody>\n",
              "    <tr>\n",
              "      <th>0</th>\n",
              "      <td>0-39</td>\n",
              "      <td>415</td>\n",
              "    </tr>\n",
              "    <tr>\n",
              "      <th>1</th>\n",
              "      <td>40-79</td>\n",
              "      <td>355</td>\n",
              "    </tr>\n",
              "    <tr>\n",
              "      <th>2</th>\n",
              "      <td>80-119</td>\n",
              "      <td>138</td>\n",
              "    </tr>\n",
              "    <tr>\n",
              "      <th>3</th>\n",
              "      <td>120+</td>\n",
              "      <td>67</td>\n",
              "    </tr>\n",
              "  </tbody>\n",
              "</table>\n",
              "</div>"
            ],
            "text/plain": [
              "  Grams per day  Frequency\n",
              "0          0-39        415\n",
              "1         40-79        355\n",
              "2        80-119        138\n",
              "3          120+         67"
            ]
          },
          "metadata": {
            "tags": []
          },
          "execution_count": 14
        }
      ]
    },
    {
      "cell_type": "code",
      "metadata": {
        "colab": {
          "base_uri": "https://localhost:8080/",
          "height": 295
        },
        "id": "5gFY9dbZTPGY",
        "outputId": "54077c99-1cf6-47ec-afe0-dca19a5a5f28"
      },
      "source": [
        "sns.barplot(x='Grams per day', y='Frequency', \n",
        "            data=AlcLvlCon).set_title('Frequency of people that did not developed esophageal cancer according to alcohol consumption')\n",
        "\n",
        "plt.show()"
      ],
      "execution_count": 15,
      "outputs": [
        {
          "output_type": "display_data",
          "data": {
            "image/png": "[encoded data removed]",
            "text/plain": [
              "<Figure size 432x288 with 1 Axes>"
            ]
          },
          "metadata": {
            "tags": [],
            "needs_background": "light"
          }
        }
      ]
    },
    {
      "cell_type": "markdown",
      "metadata": {
        "id": "rGC6tGF3uRhc"
      },
      "source": [
        "## How many people developed esophageal cancer based on the amount of the tobacco they smoked?"
      ]
    },
    {
      "cell_type": "code",
      "metadata": {
        "colab": {
          "base_uri": "https://localhost:8080/",
          "height": 173
        },
        "id": "0-OcYvBct4hj",
        "outputId": "930817bd-8016-402b-dc14-169539f7fdbc"
      },
      "source": [
        "LowTbco = esop[esop['Tobacco'] == 'LowTbco']\n",
        "LowTbco = LowTbco['ncases'].sum()\n",
        "\n",
        "ModTbco = esop[esop['Tobacco'] == 'ModTbco']\n",
        "ModTbco = ModTbco['ncases'].sum()\n",
        "\n",
        "HighTbco = esop[esop['Tobacco'] == 'HighTbco']\n",
        "HighTbco = HighTbco['ncases'].sum()\n",
        "\n",
        "VeryHighTbco = esop[esop['Tobacco'] == 'VeryHighTbco']\n",
        "VeryHighTbco = VeryHighTbco['ncases'].sum()\n",
        "\n",
        "TbcoLvl = {'Grams per day': ['0-9', '10-19', '20-29', '30+'], \n",
        "          'Frequency': [LowTbco, ModTbco, HighTbco, VeryHighTbco]}\n",
        "TbcoLvl = pd.DataFrame(data=TbcoLvl)\n",
        "TbcoLvl"
      ],
      "execution_count": 16,
      "outputs": [
        {
          "output_type": "execute_result",
          "data": {
            "text/html": [
              "<div>\n",
              "<style scoped>\n",
              "    .dataframe tbody tr th:only-of-type {\n",
              "        vertical-align: middle;\n",
              "    }\n",
              "\n",
              "    .dataframe tbody tr th {\n",
              "        vertical-align: top;\n",
              "    }\n",
              "\n",
              "    .dataframe thead th {\n",
              "        text-align: right;\n",
              "    }\n",
              "</style>\n",
              "<table border=\"1\" class=\"dataframe\">\n",
              "  <thead>\n",
              "    <tr style=\"text-align: right;\">\n",
              "      <th></th>\n",
              "      <th>Grams per day</th>\n",
              "      <th>Frequency</th>\n",
              "    </tr>\n",
              "  </thead>\n",
              "  <tbody>\n",
              "    <tr>\n",
              "      <th>0</th>\n",
              "      <td>0-9</td>\n",
              "      <td>78</td>\n",
              "    </tr>\n",
              "    <tr>\n",
              "      <th>1</th>\n",
              "      <td>10-19</td>\n",
              "      <td>58</td>\n",
              "    </tr>\n",
              "    <tr>\n",
              "      <th>2</th>\n",
              "      <td>20-29</td>\n",
              "      <td>33</td>\n",
              "    </tr>\n",
              "    <tr>\n",
              "      <th>3</th>\n",
              "      <td>30+</td>\n",
              "      <td>31</td>\n",
              "    </tr>\n",
              "  </tbody>\n",
              "</table>\n",
              "</div>"
            ],
            "text/plain": [
              "  Grams per day  Frequency\n",
              "0           0-9         78\n",
              "1         10-19         58\n",
              "2         20-29         33\n",
              "3           30+         31"
            ]
          },
          "metadata": {
            "tags": []
          },
          "execution_count": 16
        }
      ]
    },
    {
      "cell_type": "code",
      "metadata": {
        "colab": {
          "base_uri": "https://localhost:8080/",
          "height": 295
        },
        "id": "w_E9Cpqluebd",
        "outputId": "f3a36e14-8e9e-4c8e-f125-29372e6e0c69"
      },
      "source": [
        "sns.barplot(x='Grams per day', y='Frequency', \n",
        "            data=TbcoLvl).set_title('Frequency of esophageal cancer based on the amount of tobacco smoked')\n",
        "\n",
        "plt.show()"
      ],
      "execution_count": 17,
      "outputs": [
        {
          "output_type": "display_data",
          "data": {
            "image/png": "[encoded data removed]",
            "text/plain": [
              "<Figure size 432x288 with 1 Axes>"
            ]
          },
          "metadata": {
            "tags": [],
            "needs_background": "light"
          }
        }
      ]
    },
    {
      "cell_type": "markdown",
      "metadata": {
        "id": "x5_CY86lUStn"
      },
      "source": [
        "## How many people did not developed esophageal cancer based on the amount of the tobacco they smoked?"
      ]
    },
    {
      "cell_type": "code",
      "metadata": {
        "colab": {
          "base_uri": "https://localhost:8080/",
          "height": 173
        },
        "id": "glapicvlUyNw",
        "outputId": "0b6663cd-3d46-47d6-85f1-0888a44cfc83"
      },
      "source": [
        "LowTbcoCon = esop[esop['Tobacco'] == 'LowTbco']\n",
        "LowTbcoCon = LowTbcoCon['ncontrols'].sum()\n",
        "\n",
        "ModTbcoCon = esop[esop['Tobacco'] == 'ModTbco']\n",
        "ModTbcoCon = ModTbcoCon['ncontrols'].sum()\n",
        "\n",
        "HighTbcoCon = esop[esop['Tobacco'] == 'HighTbco']\n",
        "HighTbcoCon = HighTbcoCon['ncontrols'].sum()\n",
        "\n",
        "VeryHighTbcoCon = esop[esop['Tobacco'] == 'VeryHighTbco']\n",
        "VeryHighTbcoCon = VeryHighTbcoCon['ncontrols'].sum()\n",
        "\n",
        "TbcoLvlCon = {'Grams per day': ['0-9', '10-19', '20-29', '30+'], \n",
        "          'Frequency': [LowTbcoCon, ModTbcoCon, HighTbcoCon, VeryHighTbcoCon]}\n",
        "TbcoLvlCon = pd.DataFrame(data=TbcoLvlCon)\n",
        "TbcoLvlCon"
      ],
      "execution_count": 18,
      "outputs": [
        {
          "output_type": "execute_result",
          "data": {
            "text/html": [
              "<div>\n",
              "<style scoped>\n",
              "    .dataframe tbody tr th:only-of-type {\n",
              "        vertical-align: middle;\n",
              "    }\n",
              "\n",
              "    .dataframe tbody tr th {\n",
              "        vertical-align: top;\n",
              "    }\n",
              "\n",
              "    .dataframe thead th {\n",
              "        text-align: right;\n",
              "    }\n",
              "</style>\n",
              "<table border=\"1\" class=\"dataframe\">\n",
              "  <thead>\n",
              "    <tr style=\"text-align: right;\">\n",
              "      <th></th>\n",
              "      <th>Grams per day</th>\n",
              "      <th>Frequency</th>\n",
              "    </tr>\n",
              "  </thead>\n",
              "  <tbody>\n",
              "    <tr>\n",
              "      <th>0</th>\n",
              "      <td>0-9</td>\n",
              "      <td>525</td>\n",
              "    </tr>\n",
              "    <tr>\n",
              "      <th>1</th>\n",
              "      <td>10-19</td>\n",
              "      <td>236</td>\n",
              "    </tr>\n",
              "    <tr>\n",
              "      <th>2</th>\n",
              "      <td>20-29</td>\n",
              "      <td>132</td>\n",
              "    </tr>\n",
              "    <tr>\n",
              "      <th>3</th>\n",
              "      <td>30+</td>\n",
              "      <td>82</td>\n",
              "    </tr>\n",
              "  </tbody>\n",
              "</table>\n",
              "</div>"
            ],
            "text/plain": [
              "  Grams per day  Frequency\n",
              "0           0-9        525\n",
              "1         10-19        236\n",
              "2         20-29        132\n",
              "3           30+         82"
            ]
          },
          "metadata": {
            "tags": []
          },
          "execution_count": 18
        }
      ]
    },
    {
      "cell_type": "code",
      "metadata": {
        "colab": {
          "base_uri": "https://localhost:8080/",
          "height": 295
        },
        "id": "aJhrJqdVVLXm",
        "outputId": "51b0517f-0f72-4e52-da02-e9233432db5a"
      },
      "source": [
        "sns.barplot(x='Grams per day', y='Frequency', \n",
        "            data=TbcoLvlCon).set_title('Frequency of people that did not have esophageal cancer based on the amount of tobacco smoked')\n",
        "\n",
        "plt.show()"
      ],
      "execution_count": 19,
      "outputs": [
        {
          "output_type": "display_data",
          "data": {
            "image/png": "[encoded data removed]",
            "text/plain": [
              "<Figure size 432x288 with 1 Axes>"
            ]
          },
          "metadata": {
            "tags": [],
            "needs_background": "light"
          }
        }
      ]
    },
    {
      "cell_type": "markdown",
      "metadata": {
        "id": "3HYptGeQLy2f"
      },
      "source": [
        "# Perform $\\chi^2$ test"
      ]
    },
    {
      "cell_type": "markdown",
      "metadata": {
        "id": "KEyJT4wixU77"
      },
      "source": [
        "## Is being an elderly ($\\geq$ 65 years old) have a relationship with developing esophageal cancer?\n",
        "$H_0$: There is no relation between cancer development and being an elderly.\n",
        "<br>\n",
        "$H_A$: There is a significant relation between cancer development and being an elderly.\n",
        "<br>\n",
        "Significance level: $\\alpha = 0.05$\n",
        "<br>\n",
        "This is a simple version with 2 categorical variables. We assign the term \"elderly\" to the age group 65 years old and above for ease."
      ]
    },
    {
      "cell_type": "code",
      "metadata": {
        "id": "mcu50Fitvyj5",
        "colab": {
          "base_uri": "https://localhost:8080/",
          "height": 111
        },
        "outputId": "ba6b4d50-93db-4464-f7aa-b4389b08574a"
      },
      "source": [
        "# Create a 2x2 contingency table\n",
        "\n",
        "CancerElder = Bmr02 + Trad\n",
        "NoCancerElder = Bmr02con + Tradcon\n",
        "\n",
        "CancerNonElder = Mil01 + Mil02 + GenX + Bmr01\n",
        "NoCancerNonElder = Mil01con + Mil02con + GenXcon + Bmr01con\n",
        "\n",
        "Elderly = pd.DataFrame({'Cancer': [CancerElder, CancerNonElder], \n",
        "                        'No Cancer': [NoCancerElder, NoCancerNonElder]}, \n",
        "                       index=['Elderly', 'Not Elderly'])\n",
        "Elderly"
      ],
      "execution_count": 20,
      "outputs": [
        {
          "output_type": "execute_result",
          "data": {
            "text/html": [
              "<div>\n",
              "<style scoped>\n",
              "    .dataframe tbody tr th:only-of-type {\n",
              "        vertical-align: middle;\n",
              "    }\n",
              "\n",
              "    .dataframe tbody tr th {\n",
              "        vertical-align: top;\n",
              "    }\n",
              "\n",
              "    .dataframe thead th {\n",
              "        text-align: right;\n",
              "    }\n",
              "</style>\n",
              "<table border=\"1\" class=\"dataframe\">\n",
              "  <thead>\n",
              "    <tr style=\"text-align: right;\">\n",
              "      <th></th>\n",
              "      <th>Cancer</th>\n",
              "      <th>No Cancer</th>\n",
              "    </tr>\n",
              "  </thead>\n",
              "  <tbody>\n",
              "    <tr>\n",
              "      <th>Elderly</th>\n",
              "      <td>68</td>\n",
              "      <td>205</td>\n",
              "    </tr>\n",
              "    <tr>\n",
              "      <th>Not Elderly</th>\n",
              "      <td>132</td>\n",
              "      <td>770</td>\n",
              "    </tr>\n",
              "  </tbody>\n",
              "</table>\n",
              "</div>"
            ],
            "text/plain": [
              "             Cancer  No Cancer\n",
              "Elderly          68        205\n",
              "Not Elderly     132        770"
            ]
          },
          "metadata": {
            "tags": []
          },
          "execution_count": 20
        }
      ]
    },
    {
      "cell_type": "code",
      "metadata": {
        "colab": {
          "base_uri": "https://localhost:8080/",
          "height": 0
        },
        "id": "JZU4PBu99huL",
        "outputId": "ad5d22db-f076-43e4-d42b-e6ce5a633306"
      },
      "source": [
        "# Perform the chi square test\n",
        "\n",
        "chi2stat, pval, dof, expected = chi2_contingency(Elderly)\n",
        "chi2stat, pval, dof, expected"
      ],
      "execution_count": 21,
      "outputs": [
        {
          "output_type": "execute_result",
          "data": {
            "text/plain": [
              "(14.944019834527573,\n",
              " 0.00011074852785538197,\n",
              " 1,\n",
              " array([[ 46.46808511, 226.53191489],\n",
              "        [153.53191489, 748.46808511]]))"
            ]
          },
          "metadata": {
            "tags": []
          },
          "execution_count": 21
        }
      ]
    },
    {
      "cell_type": "code",
      "metadata": {
        "colab": {
          "base_uri": "https://localhost:8080/",
          "height": 0
        },
        "id": "vaWLWDa_4liX",
        "outputId": "97998edf-5506-41c0-a783-1149b72ce562"
      },
      "source": [
        "# Determine the critical value (using 95% probability)\n",
        "\n",
        "prob = 0.95\n",
        "\n",
        "CrVal = chi2.ppf(prob, dof)\n",
        "CrVal"
      ],
      "execution_count": 22,
      "outputs": [
        {
          "output_type": "execute_result",
          "data": {
            "text/plain": [
              "3.841458820694124"
            ]
          },
          "metadata": {
            "tags": []
          },
          "execution_count": 22
        }
      ]
    },
    {
      "cell_type": "markdown",
      "metadata": {
        "id": "w6Aw4Y5Z5RjS"
      },
      "source": [
        "## Result and Interpretation\n",
        "We go back to our initial question, is being an elderly ($\\geq$ 65 years old) have a relationship with developing cancer?\n",
        "<br><br>\n",
        "p-value = 0.0001 $<$ $\\alpha = 0.05$\n",
        "<br>\n",
        "$\\chi^2$ stat = 14.94 $>$ Critical Value = 3.84\n",
        "<br><br>\n",
        "We will reject our null hypothesis. Based on the data that we have, and the test that we did, we can say that being an elderly have a relationship in developing esophageal cancer.\n",
        "<br><br>\n",
        "Hold on... Doesn't that makes us bias towards the elderly? How about we try to find out the relationship across all age groups."
      ]
    },
    {
      "cell_type": "markdown",
      "metadata": {
        "id": "oGMviptrOTrz"
      },
      "source": [
        "## Does age and development of cancer have a relationship?\n",
        "$H_0$: There is no relation between cancer development and age.\n",
        "<br>\n",
        "$H_A$: There is a significant relation between cancer development and age.\n",
        "<br>\n",
        "Significance level: $\\alpha = 0.05$\n",
        "\n"
      ]
    },
    {
      "cell_type": "code",
      "metadata": {
        "colab": {
          "base_uri": "https://localhost:8080/",
          "height": 235
        },
        "id": "jtYQnLjKJsYy",
        "outputId": "56e8d604-6876-475b-cd5a-a6e0ec878833"
      },
      "source": [
        "# Create the contingency table\n",
        "AgeChi = pd.DataFrame({'Cancer': [Mil01, Mil02, GenX, Bmr01, Bmr02, Trad], \n",
        "                       'No Cancer': [Mil01con, Mil02con, GenXcon, Bmr01con, Bmr02con, Tradcon]}, \n",
        "                       index=['Millennial 1', 'Millennial 2', 'Gen X', 'Boomer 1', 'Boomer 2', 'Traditionalists'])\n",
        "AgeChi"
      ],
      "execution_count": 23,
      "outputs": [
        {
          "output_type": "execute_result",
          "data": {
            "text/html": [
              "<div>\n",
              "<style scoped>\n",
              "    .dataframe tbody tr th:only-of-type {\n",
              "        vertical-align: middle;\n",
              "    }\n",
              "\n",
              "    .dataframe tbody tr th {\n",
              "        vertical-align: top;\n",
              "    }\n",
              "\n",
              "    .dataframe thead th {\n",
              "        text-align: right;\n",
              "    }\n",
              "</style>\n",
              "<table border=\"1\" class=\"dataframe\">\n",
              "  <thead>\n",
              "    <tr style=\"text-align: right;\">\n",
              "      <th></th>\n",
              "      <th>Cancer</th>\n",
              "      <th>No Cancer</th>\n",
              "    </tr>\n",
              "  </thead>\n",
              "  <tbody>\n",
              "    <tr>\n",
              "      <th>Millennial 1</th>\n",
              "      <td>1</td>\n",
              "      <td>116</td>\n",
              "    </tr>\n",
              "    <tr>\n",
              "      <th>Millennial 2</th>\n",
              "      <td>9</td>\n",
              "      <td>199</td>\n",
              "    </tr>\n",
              "    <tr>\n",
              "      <th>Gen X</th>\n",
              "      <td>46</td>\n",
              "      <td>213</td>\n",
              "    </tr>\n",
              "    <tr>\n",
              "      <th>Boomer 1</th>\n",
              "      <td>76</td>\n",
              "      <td>242</td>\n",
              "    </tr>\n",
              "    <tr>\n",
              "      <th>Boomer 2</th>\n",
              "      <td>55</td>\n",
              "      <td>161</td>\n",
              "    </tr>\n",
              "    <tr>\n",
              "      <th>Traditionalists</th>\n",
              "      <td>13</td>\n",
              "      <td>44</td>\n",
              "    </tr>\n",
              "  </tbody>\n",
              "</table>\n",
              "</div>"
            ],
            "text/plain": [
              "                 Cancer  No Cancer\n",
              "Millennial 1          1        116\n",
              "Millennial 2          9        199\n",
              "Gen X                46        213\n",
              "Boomer 1             76        242\n",
              "Boomer 2             55        161\n",
              "Traditionalists      13         44"
            ]
          },
          "metadata": {
            "tags": []
          },
          "execution_count": 23
        }
      ]
    },
    {
      "cell_type": "code",
      "metadata": {
        "colab": {
          "base_uri": "https://localhost:8080/",
          "height": 0
        },
        "id": "sNEwNAvOQ4bW",
        "outputId": "3caf323c-8f53-4153-ff81-3cb740198396"
      },
      "source": [
        "# Peform the chi square test\n",
        "\n",
        "chi2stat, pval, dof, expected = chi2_contingency(AgeChi)\n",
        "chi2stat, pval, dof, expected"
      ],
      "execution_count": 24,
      "outputs": [
        {
          "output_type": "execute_result",
          "data": {
            "text/plain": [
              "(68.38246235828764,\n",
              " 2.2237336009544736e-13,\n",
              " 5,\n",
              " array([[ 19.91489362,  97.08510638],\n",
              "        [ 35.40425532, 172.59574468],\n",
              "        [ 44.08510638, 214.91489362],\n",
              "        [ 54.12765957, 263.87234043],\n",
              "        [ 36.76595745, 179.23404255],\n",
              "        [  9.70212766,  47.29787234]]))"
            ]
          },
          "metadata": {
            "tags": []
          },
          "execution_count": 24
        }
      ]
    },
    {
      "cell_type": "code",
      "metadata": {
        "colab": {
          "base_uri": "https://localhost:8080/",
          "height": 0
        },
        "id": "WEh0ElNORP52",
        "outputId": "d8d9521d-4c4a-4495-e3e0-b263f6481d85"
      },
      "source": [
        "# Determine the critical value (using 95% probability)\n",
        "\n",
        "prob = 0.95\n",
        "\n",
        "CrVal = chi2.ppf(prob, dof)\n",
        "CrVal"
      ],
      "execution_count": 25,
      "outputs": [
        {
          "output_type": "execute_result",
          "data": {
            "text/plain": [
              "11.070497693516351"
            ]
          },
          "metadata": {
            "tags": []
          },
          "execution_count": 25
        }
      ]
    },
    {
      "cell_type": "markdown",
      "metadata": {
        "id": "bOFBVd5-BgTK"
      },
      "source": [
        "## Result and Interpretation\n",
        "p-value = 2.2e-13 $<$ $\\alpha = 0.05$\n",
        "<br>\n",
        "$\\chi^2$ stat = 68.38 $>$ Critical Value = 11.07\n",
        "<br><br>\n",
        "We will reject our null hypothesis. Based on the data that we have, and the test that we did, we can say that development of cancer is dependent on age."
      ]
    },
    {
      "cell_type": "markdown",
      "metadata": {
        "id": "Hu5ZnAu7DCqk"
      },
      "source": [
        "## Does the amount of alcohol consumed have an influence in the development of esophageal cancer?\n",
        "$H_0$: There is no relation between cancer development and alcohol consumption.\n",
        "<br>\n",
        "$H_A$: There is a significant relation between cancer development and alcohol consumption.\n",
        "<br>\n",
        "Significance level: $\\alpha = 0.05$"
      ]
    },
    {
      "cell_type": "code",
      "metadata": {
        "colab": {
          "base_uri": "https://localhost:8080/",
          "height": 173
        },
        "id": "1XV-JnxjsxC6",
        "outputId": "fe253835-5335-4519-c165-c9754bb21b7f"
      },
      "source": [
        "# Create the contingency table\n",
        "AlcoholChi = pd.DataFrame({'Cancer': [LowAlc, ModAlc, HighAlc, VeryHighAlc], \n",
        "                           'No Cancer': [LowAlcCon, ModAlcCon, HighAlcCon, VeryHighAlcCon]}, \n",
        "                          index=['Low', 'Moderate', 'High', 'Very High'])\n",
        "AlcoholChi"
      ],
      "execution_count": 26,
      "outputs": [
        {
          "output_type": "execute_result",
          "data": {
            "text/html": [
              "<div>\n",
              "<style scoped>\n",
              "    .dataframe tbody tr th:only-of-type {\n",
              "        vertical-align: middle;\n",
              "    }\n",
              "\n",
              "    .dataframe tbody tr th {\n",
              "        vertical-align: top;\n",
              "    }\n",
              "\n",
              "    .dataframe thead th {\n",
              "        text-align: right;\n",
              "    }\n",
              "</style>\n",
              "<table border=\"1\" class=\"dataframe\">\n",
              "  <thead>\n",
              "    <tr style=\"text-align: right;\">\n",
              "      <th></th>\n",
              "      <th>Cancer</th>\n",
              "      <th>No Cancer</th>\n",
              "    </tr>\n",
              "  </thead>\n",
              "  <tbody>\n",
              "    <tr>\n",
              "      <th>Low</th>\n",
              "      <td>29</td>\n",
              "      <td>415</td>\n",
              "    </tr>\n",
              "    <tr>\n",
              "      <th>Moderate</th>\n",
              "      <td>75</td>\n",
              "      <td>355</td>\n",
              "    </tr>\n",
              "    <tr>\n",
              "      <th>High</th>\n",
              "      <td>51</td>\n",
              "      <td>138</td>\n",
              "    </tr>\n",
              "    <tr>\n",
              "      <th>Very High</th>\n",
              "      <td>45</td>\n",
              "      <td>67</td>\n",
              "    </tr>\n",
              "  </tbody>\n",
              "</table>\n",
              "</div>"
            ],
            "text/plain": [
              "           Cancer  No Cancer\n",
              "Low            29        415\n",
              "Moderate       75        355\n",
              "High           51        138\n",
              "Very High      45         67"
            ]
          },
          "metadata": {
            "tags": []
          },
          "execution_count": 26
        }
      ]
    },
    {
      "cell_type": "code",
      "metadata": {
        "colab": {
          "base_uri": "https://localhost:8080/",
          "height": 0
        },
        "id": "2-XEvZZ2EEnA",
        "outputId": "91455da6-de80-44d5-a14a-66cc436a64a0"
      },
      "source": [
        "# Peform the chi square test\n",
        "\n",
        "chi2stat, pval, dof, expected = chi2_contingency(AlcoholChi)\n",
        "chi2stat, pval, dof, expected"
      ],
      "execution_count": 27,
      "outputs": [
        {
          "output_type": "execute_result",
          "data": {
            "text/plain": [
              "(90.45039515261173,\n",
              " 1.7531368104697901e-19,\n",
              " 3,\n",
              " array([[ 75.57446809, 368.42553191],\n",
              "        [ 73.19148936, 356.80851064],\n",
              "        [ 32.17021277, 156.82978723],\n",
              "        [ 19.06382979,  92.93617021]]))"
            ]
          },
          "metadata": {
            "tags": []
          },
          "execution_count": 27
        }
      ]
    },
    {
      "cell_type": "code",
      "metadata": {
        "colab": {
          "base_uri": "https://localhost:8080/",
          "height": 0
        },
        "id": "1MFJJhbeEPmN",
        "outputId": "05d4001e-38e2-4537-c1f4-f5862022befd"
      },
      "source": [
        "# Determine the critical value (using 95% probability)\n",
        "\n",
        "prob = 0.95\n",
        "\n",
        "CrVal = chi2.ppf(prob, dof)\n",
        "CrVal"
      ],
      "execution_count": 28,
      "outputs": [
        {
          "output_type": "execute_result",
          "data": {
            "text/plain": [
              "7.814727903251179"
            ]
          },
          "metadata": {
            "tags": []
          },
          "execution_count": 28
        }
      ]
    },
    {
      "cell_type": "markdown",
      "metadata": {
        "id": "NlRPGLPyEu4R"
      },
      "source": [
        "## Result and Interpretation\n",
        "p-value = 1.75e-19 $<$ $\\alpha = 0.05$\n",
        "<br>\n",
        "$\\chi^2$ stat = 90.45 $>$ Critical Value = 7.8\n",
        "<br><br>\n",
        "We will reject our null hypothesis. Based on the data that we have, and the test that we did, we can say that development of cancer is influenced by alcohol consumption."
      ]
    },
    {
      "cell_type": "markdown",
      "metadata": {
        "id": "cj7P1W4NJY-k"
      },
      "source": [
        "## How high is too high?\n",
        "What is the threshold of alcohol consumption where it will have an influence in the development of cancer?"
      ]
    },
    {
      "cell_type": "code",
      "metadata": {
        "colab": {
          "base_uri": "https://localhost:8080/",
          "height": 111
        },
        "id": "7MGl2ZypErfs",
        "outputId": "0e2b6d06-4144-4330-e210-b776cae36720"
      },
      "source": [
        "# Create a 2x2 contingency table where the low alcohol level is the reference.\n",
        "\n",
        "ThreshAlc = ModAlc + HighAlc+ VeryHighAlc\n",
        "ThreshAlcCon = ModAlcCon + HighAlcCon + VeryHighAlcCon\n",
        "\n",
        "AlcoholChi2 = pd.DataFrame({'Cancer': [LowAlc, ThreshAlc], \n",
        "                           'No Cancer': [LowAlcCon, ThreshAlcCon]}, \n",
        "                          index=['Low', 'Threshold'])\n",
        "AlcoholChi2"
      ],
      "execution_count": 29,
      "outputs": [
        {
          "output_type": "execute_result",
          "data": {
            "text/html": [
              "<div>\n",
              "<style scoped>\n",
              "    .dataframe tbody tr th:only-of-type {\n",
              "        vertical-align: middle;\n",
              "    }\n",
              "\n",
              "    .dataframe tbody tr th {\n",
              "        vertical-align: top;\n",
              "    }\n",
              "\n",
              "    .dataframe thead th {\n",
              "        text-align: right;\n",
              "    }\n",
              "</style>\n",
              "<table border=\"1\" class=\"dataframe\">\n",
              "  <thead>\n",
              "    <tr style=\"text-align: right;\">\n",
              "      <th></th>\n",
              "      <th>Cancer</th>\n",
              "      <th>No Cancer</th>\n",
              "    </tr>\n",
              "  </thead>\n",
              "  <tbody>\n",
              "    <tr>\n",
              "      <th>Low</th>\n",
              "      <td>29</td>\n",
              "      <td>415</td>\n",
              "    </tr>\n",
              "    <tr>\n",
              "      <th>Threshold</th>\n",
              "      <td>171</td>\n",
              "      <td>560</td>\n",
              "    </tr>\n",
              "  </tbody>\n",
              "</table>\n",
              "</div>"
            ],
            "text/plain": [
              "           Cancer  No Cancer\n",
              "Low            29        415\n",
              "Threshold     171        560"
            ]
          },
          "metadata": {
            "tags": []
          },
          "execution_count": 29
        }
      ]
    },
    {
      "cell_type": "code",
      "metadata": {
        "colab": {
          "base_uri": "https://localhost:8080/",
          "height": 0
        },
        "id": "nUl8_8oNIGG7",
        "outputId": "d3e087f7-2a76-4733-9229-0ce7412a00ad"
      },
      "source": [
        "# Peform the chi square test\n",
        "\n",
        "chi2stat, pval, dof, expected = chi2_contingency(AlcoholChi2)\n",
        "chi2stat, pval, dof, expected"
      ],
      "execution_count": 30,
      "outputs": [
        {
          "output_type": "execute_result",
          "data": {
            "text/plain": [
              "(54.41257786530743,\n",
              " 1.6251930746868895e-13,\n",
              " 1,\n",
              " array([[ 75.57446809, 368.42553191],\n",
              "        [124.42553191, 606.57446809]]))"
            ]
          },
          "metadata": {
            "tags": []
          },
          "execution_count": 30
        }
      ]
    },
    {
      "cell_type": "code",
      "metadata": {
        "colab": {
          "base_uri": "https://localhost:8080/",
          "height": 0
        },
        "id": "bGm4K554IMBs",
        "outputId": "845a8b09-3b16-47a3-fcea-3e4b34808db7"
      },
      "source": [
        "# Determine the critical value (using 95% probability)\n",
        "\n",
        "prob = 0.95\n",
        "\n",
        "CrVal = chi2.ppf(prob, dof)\n",
        "CrVal"
      ],
      "execution_count": 31,
      "outputs": [
        {
          "output_type": "execute_result",
          "data": {
            "text/plain": [
              "3.841458820694124"
            ]
          },
          "metadata": {
            "tags": []
          },
          "execution_count": 31
        }
      ]
    },
    {
      "cell_type": "markdown",
      "metadata": {
        "id": "O_wtiXHmJz8X"
      },
      "source": [
        "## Result and Interpretation\n",
        "p-value = 1.625e-13 $<$ $\\alpha = 0.05$\n",
        "<br>\n",
        "$\\chi^2$ stat = 54.41 $>$ Critical Value = 3.84\n",
        "<br><br>\n",
        "Apparently, base on the chi square test that we've done, alcohol consumption as low as 0-39 grams per day can influence the development of esophageal cancer."
      ]
    },
    {
      "cell_type": "markdown",
      "metadata": {
        "id": "3xZZrG3bKvS_"
      },
      "source": [
        "## Does the amount of tobacco smoked have an influence in the development of esophageal cancer?\n",
        "$H_0$: There is no relation between cancer development and tobacco smoked.\n",
        "<br>\n",
        "$H_A$: There is a significant relation between cancer development and tobacco smoked.\n",
        "<br>\n",
        "Significance level: $\\alpha = 0.05$"
      ]
    },
    {
      "cell_type": "code",
      "metadata": {
        "colab": {
          "base_uri": "https://localhost:8080/",
          "height": 173
        },
        "id": "FUFSs8c5I_it",
        "outputId": "3a6f89d1-3911-4363-fe9a-85e6aff78cf4"
      },
      "source": [
        "# Create the contingency table\n",
        "TobaccoChi = pd.DataFrame({'Cancer': [LowTbco, ModTbco, HighTbco, VeryHighTbco], \n",
        "                           'No Cancer': [LowTbcoCon, ModTbcoCon, HighTbcoCon, VeryHighTbcoCon]}, \n",
        "                          index=['Low', 'Moderate', 'High', 'Very High'])\n",
        "TobaccoChi"
      ],
      "execution_count": 32,
      "outputs": [
        {
          "output_type": "execute_result",
          "data": {
            "text/html": [
              "<div>\n",
              "<style scoped>\n",
              "    .dataframe tbody tr th:only-of-type {\n",
              "        vertical-align: middle;\n",
              "    }\n",
              "\n",
              "    .dataframe tbody tr th {\n",
              "        vertical-align: top;\n",
              "    }\n",
              "\n",
              "    .dataframe thead th {\n",
              "        text-align: right;\n",
              "    }\n",
              "</style>\n",
              "<table border=\"1\" class=\"dataframe\">\n",
              "  <thead>\n",
              "    <tr style=\"text-align: right;\">\n",
              "      <th></th>\n",
              "      <th>Cancer</th>\n",
              "      <th>No Cancer</th>\n",
              "    </tr>\n",
              "  </thead>\n",
              "  <tbody>\n",
              "    <tr>\n",
              "      <th>Low</th>\n",
              "      <td>78</td>\n",
              "      <td>525</td>\n",
              "    </tr>\n",
              "    <tr>\n",
              "      <th>Moderate</th>\n",
              "      <td>58</td>\n",
              "      <td>236</td>\n",
              "    </tr>\n",
              "    <tr>\n",
              "      <th>High</th>\n",
              "      <td>33</td>\n",
              "      <td>132</td>\n",
              "    </tr>\n",
              "    <tr>\n",
              "      <th>Very High</th>\n",
              "      <td>31</td>\n",
              "      <td>82</td>\n",
              "    </tr>\n",
              "  </tbody>\n",
              "</table>\n",
              "</div>"
            ],
            "text/plain": [
              "           Cancer  No Cancer\n",
              "Low            78        525\n",
              "Moderate       58        236\n",
              "High           33        132\n",
              "Very High      31         82"
            ]
          },
          "metadata": {
            "tags": []
          },
          "execution_count": 32
        }
      ]
    },
    {
      "cell_type": "code",
      "metadata": {
        "colab": {
          "base_uri": "https://localhost:8080/",
          "height": 0
        },
        "id": "XcVGRpDrLkhz",
        "outputId": "90f34b19-648c-4554-f276-60801e9e0bdf"
      },
      "source": [
        "# Peform the chi square test\n",
        "\n",
        "chi2stat, pval, dof, expected = chi2_contingency(TobaccoChi)\n",
        "chi2stat, pval, dof, expected"
      ],
      "execution_count": 33,
      "outputs": [
        {
          "output_type": "execute_result",
          "data": {
            "text/plain": [
              "(18.363025446437717,\n",
              " 0.00037016686953983055,\n",
              " 3,\n",
              " array([[102.63829787, 500.36170213],\n",
              "        [ 50.04255319, 243.95744681],\n",
              "        [ 28.08510638, 136.91489362],\n",
              "        [ 19.23404255,  93.76595745]]))"
            ]
          },
          "metadata": {
            "tags": []
          },
          "execution_count": 33
        }
      ]
    },
    {
      "cell_type": "code",
      "metadata": {
        "colab": {
          "base_uri": "https://localhost:8080/",
          "height": 0
        },
        "id": "BrH5Jeg8LtH1",
        "outputId": "18e66408-94f2-43ba-9332-a29e374a8711"
      },
      "source": [
        "# Determine the critical value (using 95% probability)\n",
        "\n",
        "prob = 0.95\n",
        "\n",
        "CrVal = chi2.ppf(prob, dof)\n",
        "CrVal"
      ],
      "execution_count": 34,
      "outputs": [
        {
          "output_type": "execute_result",
          "data": {
            "text/plain": [
              "7.814727903251179"
            ]
          },
          "metadata": {
            "tags": []
          },
          "execution_count": 34
        }
      ]
    },
    {
      "cell_type": "markdown",
      "metadata": {
        "id": "S5JfeV15L8FB"
      },
      "source": [
        "## Result and Interpretation\n",
        "p-value = 0.0003 $<$ $\\alpha = 0.05$\n",
        "<br>\n",
        "$\\chi^2$ stat = 18.36 $>$ Critical Value = 7.8\n",
        "<br><br>\n",
        "We will reject our null hypothesis. Based on the data that we have, and the test that we did, we can say that development of cancer is influenced by tobacco smoking."
      ]
    },
    {
      "cell_type": "markdown",
      "metadata": {
        "id": "zLCazvxnMg1N"
      },
      "source": [
        "## How many is too many?\n",
        "What is the threshold of tobacco smoking where it will have an influence in the development of cancer?"
      ]
    },
    {
      "cell_type": "code",
      "metadata": {
        "colab": {
          "base_uri": "https://localhost:8080/",
          "height": 111
        },
        "id": "UKttYFAML3Iv",
        "outputId": "4e57d07f-9071-4744-8174-22e7aeb8c721"
      },
      "source": [
        "# Create a 2x2 contingency table where the low tobacco smoked is the reference.\n",
        "\n",
        "ThreshTbco = ModTbco + HighTbco + VeryHighTbco\n",
        "ThreshTbcoCon = ModTbcoCon + HighTbcoCon + VeryHighTbcoCon\n",
        "\n",
        "TobaccoChi2 = pd.DataFrame({'Cancer': [LowTbco, ThreshTbco], \n",
        "                           'No Cancer': [LowTbcoCon, ThreshTbcoCon]}, \n",
        "                          index=['Low', 'Threshold'])\n",
        "TobaccoChi2"
      ],
      "execution_count": 35,
      "outputs": [
        {
          "output_type": "execute_result",
          "data": {
            "text/html": [
              "<div>\n",
              "<style scoped>\n",
              "    .dataframe tbody tr th:only-of-type {\n",
              "        vertical-align: middle;\n",
              "    }\n",
              "\n",
              "    .dataframe tbody tr th {\n",
              "        vertical-align: top;\n",
              "    }\n",
              "\n",
              "    .dataframe thead th {\n",
              "        text-align: right;\n",
              "    }\n",
              "</style>\n",
              "<table border=\"1\" class=\"dataframe\">\n",
              "  <thead>\n",
              "    <tr style=\"text-align: right;\">\n",
              "      <th></th>\n",
              "      <th>Cancer</th>\n",
              "      <th>No Cancer</th>\n",
              "    </tr>\n",
              "  </thead>\n",
              "  <tbody>\n",
              "    <tr>\n",
              "      <th>Low</th>\n",
              "      <td>78</td>\n",
              "      <td>525</td>\n",
              "    </tr>\n",
              "    <tr>\n",
              "      <th>Threshold</th>\n",
              "      <td>122</td>\n",
              "      <td>450</td>\n",
              "    </tr>\n",
              "  </tbody>\n",
              "</table>\n",
              "</div>"
            ],
            "text/plain": [
              "           Cancer  No Cancer\n",
              "Low            78        525\n",
              "Threshold     122        450"
            ]
          },
          "metadata": {
            "tags": []
          },
          "execution_count": 35
        }
      ]
    },
    {
      "cell_type": "code",
      "metadata": {
        "colab": {
          "base_uri": "https://localhost:8080/",
          "height": 0
        },
        "id": "Bd8OfbhwNlxQ",
        "outputId": "f23a3bcd-aaf1-4037-e670-32acca19fd99"
      },
      "source": [
        "# Peform the chi square test\n",
        "\n",
        "chi2stat, pval, dof, expected = chi2_contingency(TobaccoChi2)\n",
        "chi2stat, pval, dof, expected"
      ],
      "execution_count": 36,
      "outputs": [
        {
          "output_type": "execute_result",
          "data": {
            "text/plain": [
              "(14.053319891840639,\n",
              " 0.0001776998601699044,\n",
              " 1,\n",
              " array([[102.63829787, 500.36170213],\n",
              "        [ 97.36170213, 474.63829787]]))"
            ]
          },
          "metadata": {
            "tags": []
          },
          "execution_count": 36
        }
      ]
    },
    {
      "cell_type": "code",
      "metadata": {
        "colab": {
          "base_uri": "https://localhost:8080/",
          "height": 0
        },
        "id": "wR8HX7CgN0W_",
        "outputId": "3a3bcb6b-f426-49d4-e6ef-997501807714"
      },
      "source": [
        "# Determine the critical value (using 95% probability)\n",
        "\n",
        "prob = 0.95\n",
        "\n",
        "CrVal = chi2.ppf(prob, dof)\n",
        "CrVal"
      ],
      "execution_count": 37,
      "outputs": [
        {
          "output_type": "execute_result",
          "data": {
            "text/plain": [
              "3.841458820694124"
            ]
          },
          "metadata": {
            "tags": []
          },
          "execution_count": 37
        }
      ]
    },
    {
      "cell_type": "markdown",
      "metadata": {
        "id": "FWmdLmbUN-pM"
      },
      "source": [
        "## Result and Interpretation\n",
        "p-value = 0.0001 $<$ $\\alpha = 0.05$\n",
        "<br>\n",
        "$\\chi^2$ stat = 14.05 $>$ Critical Value = 3.8\n",
        "<br><br>\n",
        "Based on the test we did, tobacco smoking as low as 0-9 grams per day has an influence in developing esophageal cancer."
      ]
    }
  ]
}